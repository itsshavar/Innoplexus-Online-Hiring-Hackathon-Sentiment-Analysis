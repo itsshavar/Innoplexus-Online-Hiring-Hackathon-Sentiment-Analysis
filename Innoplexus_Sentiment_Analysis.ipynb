{
  "nbformat": 4,
  "nbformat_minor": 0,
  "metadata": {
    "colab": {
      "name": "Innoplexus_Sentiment_Analysis.ipynb",
      "version": "0.3.2",
      "provenance": [],
      "collapsed_sections": []
    },
    "kernelspec": {
      "name": "python3",
      "display_name": "Python 3"
    }
  },
  "cells": [
    {
      "cell_type": "markdown",
      "metadata": {
        "id": "qNvINeE9LT-V",
        "colab_type": "text"
      },
      "source": [
        "![alt text](https://user-images.githubusercontent.com/37707687/62003677-4119b700-b138-11e9-89ad-60725dc3f6f8.png)"
      ]
    },
    {
      "cell_type": "markdown",
      "metadata": {
        "id": "QU1azblmLaqU",
        "colab_type": "text"
      },
      "source": [
        "## Data Read"
      ]
    },
    {
      "cell_type": "code",
      "metadata": {
        "id": "hfUO8egdd0Z8",
        "colab_type": "code",
        "colab": {}
      },
      "source": [
        "import io\n",
        "import pandas as pd\n",
        "import numpy as np\n",
        "df = pd.read_csv(\"https://datahack-prod.s3.amazonaws.com/train_file/train_F3WbcTw.csv\",header=0)"
      ],
      "execution_count": 0,
      "outputs": []
    },
    {
      "cell_type": "markdown",
      "metadata": {
        "id": "itjdwhpNLdSr",
        "colab_type": "text"
      },
      "source": [
        "## Data Cleaning"
      ]
    },
    {
      "cell_type": "code",
      "metadata": {
        "id": "UTfSp8AidW_K",
        "colab_type": "code",
        "colab": {}
      },
      "source": [
        "import re \n",
        "def clean_str(string):\n",
        "    \"\"\"\n",
        "    Tokenization/string cleaning for dataset\n",
        "    Every dataset is lower cased except\n",
        "    \"\"\"\n",
        "    #querywords = string.split()\n",
        "    #resultwords  = [word for word in querywords if word.lower() not in stop]\n",
        "    #string = ' '.join(resultwords)\n",
        "    string = re.sub(r\"\\’\", \"\\'\", string)\n",
        "    string = re.sub(r\"won\\'t\", \"will not\", string)\n",
        "    string = re.sub(r\"can\\'t\", \"can not\", string)\n",
        "    string = re.sub(r\"don\\'t\", \"do not\", string)\n",
        "    string = re.sub(r\"dont\", \"do not\", string)\n",
        "    string = re.sub(r\"n\\’t\", \" not\", string)\n",
        "    string = re.sub(r\"n\\'t\", \" not\", string)\n",
        "    string = re.sub(r\"\\'re\", \" are\", string)\n",
        "    string = re.sub(r\"\\'s\", \" is\", string)\n",
        "    string = re.sub(r\"\\’d\", \" would\", string)\n",
        "    string = re.sub(r\"\\d\", \" would\", string)\n",
        "    string = re.sub(r\"\\'ll\", \" will\", string)\n",
        "    string = re.sub(r\"\\'t\", \" not\", string)\n",
        "    string = re.sub(r\"\\'ve\", \" have\", string)\n",
        "    string = re.sub(r\"\\'m\", \" am\", string) \n",
        "    string = re.sub(r\"\\n\", \"\", string)    \n",
        "    string = re.sub(r\"\\r\", \"\", string) \n",
        "    string = re.sub(r\"[0-9]\", \"digit\", string)\n",
        "    string = re.sub(r\"\\'\", \"\", string)    \n",
        "    string = re.sub(r\"\\\"\", \"\", string)    \n",
        "    string = re.sub(r'[?|!|\\'|\"|#]',r'',string)\n",
        "    string = re.sub(r'[.|,|)|(|\\|/]',r' ',string)\n",
        "    return string.strip().lower()\n",
        "X = []\n",
        "stop = list(set(df[\"drug\"]))\n",
        "stop = map(lambda x:x.lower(),stop)\n",
        "for i in range(df.shape[0]):\n",
        "    X.append(clean_str(df.iloc[i][1]))\n",
        "y = np.array(df[\"sentiment\"])"
      ],
      "execution_count": 0,
      "outputs": []
    },
    {
      "cell_type": "code",
      "metadata": {
        "id": "oFBRdEMejASh",
        "colab_type": "code",
        "outputId": "d8a42912-6758-4584-ebe2-0198b8175c5f",
        "colab": {
          "base_uri": "https://localhost:8080/",
          "height": 55
        }
      },
      "source": [
        "X[1]"
      ],
      "execution_count": 15,
      "outputs": [
        {
          "output_type": "execute_result",
          "data": {
            "text/plain": [
              "'i can completely understand why youd want to try it  but  results reported in lectures do not always stand up to the scrutiny of peer-review during publication  there so much still to do before this is convincing  i hope that it does work out  i really do  and if you are aware of and happy with the risks  then that is great  i just think it is important to present this in a balanced way  and to understand why we do not move straight from the first show of promise in an animal study to using drugs on humans  there is still a lot of animal data to gather  and human data to gather before anyone can tell if it is safe or effective  i can not tell you how many times animal studies do not follow through to humans  but it is one of the major attrition points in drug development  you have been through some of the unpredictability issues with cladribine gilenya  where there was an interaction that was not predicted  but once people try it  the doctors can see patterns and work out what is going on  clemastine metformin is very exciting  and given what you have said about your current condition and your personal risk tolerance it makes sense to try it  it definitely would not be for everyone'"
            ]
          },
          "metadata": {
            "tags": []
          },
          "execution_count": 15
        }
      ]
    },
    {
      "cell_type": "markdown",
      "metadata": {
        "id": "lgg87zGJLibF",
        "colab_type": "text"
      },
      "source": [
        "## Model Pipeline"
      ]
    },
    {
      "cell_type": "code",
      "metadata": {
        "id": "QbbQP_VJdeAe",
        "colab_type": "code",
        "colab": {}
      },
      "source": [
        "from sklearn.pipeline import Pipeline\n",
        "from sklearn.feature_extraction.text import TfidfVectorizer\n",
        "from sklearn.feature_extraction.text import CountVectorizer\n",
        "from sklearn.feature_extraction.text import TfidfTransformer\n",
        "from sklearn.svm import LinearSVC\n",
        "from sklearn.multiclass import OneVsRestClassifier\n",
        "from sklearn.ensemble import RandomForestClassifier\n",
        "model = Pipeline([('vectorizer', CountVectorizer(stop_words='english')),\n",
        " ('tfidf', TfidfTransformer()),\n",
        " ('clf', OneVsRestClassifier(LinearSVC(class_weight=\"balanced\")))])\n",
        "\n"
      ],
      "execution_count": 0,
      "outputs": []
    },
    {
      "cell_type": "markdown",
      "metadata": {
        "id": "E4UjsrxiLmSM",
        "colab_type": "text"
      },
      "source": [
        "## Parameter Tuning"
      ]
    },
    {
      "cell_type": "code",
      "metadata": {
        "id": "1bFqKwDsVQWb",
        "colab_type": "code",
        "outputId": "a659734a-fb1c-42a8-d97f-ac65a9831afa",
        "colab": {
          "base_uri": "https://localhost:8080/",
          "height": 166
        }
      },
      "source": [
        "from sklearn.model_selection import GridSearchCV\n",
        "\n",
        "#from sklearn.grid_search import GridSearchCV\n",
        "parameters = { 'vectorizer__ngram_range': [(1, 1), (1, 2),(2,2)],\n",
        "               'tfidf__use_idf': (True, False)         \n",
        "            }\n",
        "\n",
        "gs_clf_svm = GridSearchCV(model, parameters,scoring=\"f1_macro\", n_jobs=-1,verbose=2)\n",
        "gs_clf_svm = gs_clf_svm.fit(X, y)\n",
        "print(gs_clf_svm.best_score_)\n",
        "print(gs_clf_svm.best_params_)"
      ],
      "execution_count": 17,
      "outputs": [
        {
          "output_type": "stream",
          "text": [
            "Fitting 3 folds for each of 6 candidates, totalling 18 fits\n"
          ],
          "name": "stdout"
        },
        {
          "output_type": "stream",
          "text": [
            "/usr/local/lib/python3.6/dist-packages/sklearn/model_selection/_split.py:1978: FutureWarning: The default value of cv will change from 3 to 5 in version 0.22. Specify it explicitly to silence this warning.\n",
            "  warnings.warn(CV_WARNING, FutureWarning)\n",
            "[Parallel(n_jobs=-1)]: Using backend LokyBackend with 2 concurrent workers.\n",
            "[Parallel(n_jobs=-1)]: Done  18 out of  18 | elapsed:   48.1s finished\n"
          ],
          "name": "stderr"
        },
        {
          "output_type": "stream",
          "text": [
            "0.4883059513911091\n",
            "{'tfidf__use_idf': False, 'vectorizer__ngram_range': (1, 2)}\n"
          ],
          "name": "stdout"
        }
      ]
    },
    {
      "cell_type": "markdown",
      "metadata": {
        "id": "TdyB_lncMSSV",
        "colab_type": "text"
      },
      "source": [
        "## Data Partiton"
      ]
    },
    {
      "cell_type": "code",
      "metadata": {
        "id": "XxwFDV_cL_KI",
        "colab_type": "code",
        "colab": {}
      },
      "source": [
        "from sklearn.model_selection import train_test_split\n",
        "X_train, X_test, y_train, y_test = train_test_split(X, y, test_size=0.20, random_state=42)"
      ],
      "execution_count": 0,
      "outputs": []
    },
    {
      "cell_type": "code",
      "metadata": {
        "id": "UMkeXLljWvOb",
        "colab_type": "code",
        "colab": {}
      },
      "source": [
        "model = Pipeline([('vectorizer', CountVectorizer(stop_words='english',ngram_range=(1,2))),\n",
        "    ('tfidf', TfidfTransformer(use_idf=False)),\n",
        "    ('clf', OneVsRestClassifier(LinearSVC(class_weight=\"balanced\",random_state=123456987)))])"
      ],
      "execution_count": 0,
      "outputs": []
    },
    {
      "cell_type": "markdown",
      "metadata": {
        "id": "0Qyp8UdwMX_0",
        "colab_type": "text"
      },
      "source": [
        "## Modeling with Best Parameter"
      ]
    },
    {
      "cell_type": "code",
      "metadata": {
        "id": "aKdsnPdwdhyL",
        "colab_type": "code",
        "colab": {}
      },
      "source": [
        "\n",
        "model.fit(X_train, y_train)\n",
        "#evaluation on test data\n",
        "pred = model.predict(X_test)\n"
      ],
      "execution_count": 0,
      "outputs": []
    },
    {
      "cell_type": "markdown",
      "metadata": {
        "id": "hPRvePPxMex8",
        "colab_type": "text"
      },
      "source": [
        "## Result Validation"
      ]
    },
    {
      "cell_type": "code",
      "metadata": {
        "id": "_pEZoof5j-Qb",
        "colab_type": "code",
        "outputId": "30b0ce09-3430-4966-f0ab-721a136ed5e3",
        "colab": {
          "base_uri": "https://localhost:8080/",
          "height": 35
        }
      },
      "source": [
        "from sklearn.metrics import confusion_matrix, accuracy_score,f1_score\n",
        "print(f1_score(pred, y_test,average=\"macro\"))"
      ],
      "execution_count": 21,
      "outputs": [
        {
          "output_type": "stream",
          "text": [
            "0.511245180504296\n"
          ],
          "name": "stdout"
        }
      ]
    },
    {
      "cell_type": "code",
      "metadata": {
        "id": "AykUXDdLnLiR",
        "colab_type": "code",
        "outputId": "8799af31-f653-41a1-ee48-6f10d3d60d36",
        "colab": {
          "base_uri": "https://localhost:8080/",
          "height": 550
        }
      },
      "source": [
        "model.fit(X, y)"
      ],
      "execution_count": 22,
      "outputs": [
        {
          "output_type": "execute_result",
          "data": {
            "text/plain": [
              "Pipeline(memory=None,\n",
              "         steps=[('vectorizer',\n",
              "                 CountVectorizer(analyzer='word', binary=False,\n",
              "                                 decode_error='strict',\n",
              "                                 dtype=<class 'numpy.int64'>, encoding='utf-8',\n",
              "                                 input='content', lowercase=True, max_df=1.0,\n",
              "                                 max_features=None, min_df=1,\n",
              "                                 ngram_range=(1, 2), preprocessor=None,\n",
              "                                 stop_words='english', strip_accents=None,\n",
              "                                 token_pattern='(?u)\\\\b\\\\w\\\\w+\\\\b',\n",
              "                                 tokenizer=None, voc...\n",
              "                ('tfidf',\n",
              "                 TfidfTransformer(norm='l2', smooth_idf=True,\n",
              "                                  sublinear_tf=False, use_idf=False)),\n",
              "                ('clf',\n",
              "                 OneVsRestClassifier(estimator=LinearSVC(C=1.0,\n",
              "                                                         class_weight='balanced',\n",
              "                                                         dual=True,\n",
              "                                                         fit_intercept=True,\n",
              "                                                         intercept_scaling=1,\n",
              "                                                         loss='squared_hinge',\n",
              "                                                         max_iter=1000,\n",
              "                                                         multi_class='ovr',\n",
              "                                                         penalty='l2',\n",
              "                                                         random_state=123456987,\n",
              "                                                         tol=0.0001,\n",
              "                                                         verbose=0),\n",
              "                                     n_jobs=None))],\n",
              "         verbose=False)"
            ]
          },
          "metadata": {
            "tags": []
          },
          "execution_count": 22
        }
      ]
    },
    {
      "cell_type": "markdown",
      "metadata": {
        "id": "tKxIaY5xMps_",
        "colab_type": "text"
      },
      "source": [
        "## Test Data Prep"
      ]
    },
    {
      "cell_type": "code",
      "metadata": {
        "id": "EMnbjvkhlVQL",
        "colab_type": "code",
        "colab": {}
      },
      "source": [
        "ans = []\n",
        "test = pd.read_csv(\"https://datahack-prod.s3.amazonaws.com/test_file/test_tOlRoBf.csv\",header = 0)\n",
        "for i in range(test.shape[0]):\n",
        "    ans.append(clean_str(test.iloc[i][1])+' '+ test.iloc[i][2])"
      ],
      "execution_count": 0,
      "outputs": []
    },
    {
      "cell_type": "markdown",
      "metadata": {
        "id": "r7CVBKsfMsk9",
        "colab_type": "text"
      },
      "source": [
        "## Prediction"
      ]
    },
    {
      "cell_type": "code",
      "metadata": {
        "id": "uO8Lgn6ZlvGC",
        "colab_type": "code",
        "colab": {}
      },
      "source": [
        "pred = model.predict(ans)"
      ],
      "execution_count": 0,
      "outputs": []
    },
    {
      "cell_type": "code",
      "metadata": {
        "id": "9mTgAuhdpNDS",
        "colab_type": "code",
        "outputId": "44d31e88-7358-4847-c7c4-2d3f3037f065",
        "colab": {
          "base_uri": "https://localhost:8080/",
          "height": 34
        }
      },
      "source": [
        "from collections import Counter\n",
        "print(Counter(a))"
      ],
      "execution_count": 0,
      "outputs": [
        {
          "output_type": "stream",
          "text": [
            "Counter({2: 2427, 1: 293, 0: 204})\n"
          ],
          "name": "stdout"
        }
      ]
    },
    {
      "cell_type": "code",
      "metadata": {
        "id": "jHuTCS8zmmJT",
        "colab_type": "code",
        "outputId": "5c268bc7-4ad4-475f-8dac-d3ee39dcc52d",
        "colab": {
          "base_uri": "https://localhost:8080/",
          "height": 34
        }
      },
      "source": [
        "test.columns"
      ],
      "execution_count": 0,
      "outputs": [
        {
          "output_type": "execute_result",
          "data": {
            "text/plain": [
              "Index(['unique_hash', 'text', 'drug'], dtype='object')"
            ]
          },
          "metadata": {
            "tags": []
          },
          "execution_count": 25
        }
      ]
    },
    {
      "cell_type": "code",
      "metadata": {
        "id": "8uomyvaOmURZ",
        "colab_type": "code",
        "colab": {}
      },
      "source": [
        "sub =pd.DataFrame()\n",
        "sub[\"unique_hash\"] = test[\"unique_hash\"]\n",
        "sub[\"sentiment\"] = a"
      ],
      "execution_count": 0,
      "outputs": []
    },
    {
      "cell_type": "code",
      "metadata": {
        "id": "J5XrkD4sms_I",
        "colab_type": "code",
        "outputId": "ce003b11-693c-4aa9-d876-4eab63d602a5",
        "colab": {
          "base_uri": "https://localhost:8080/",
          "height": 204
        }
      },
      "source": [
        "sub.head()"
      ],
      "execution_count": 0,
      "outputs": [
        {
          "output_type": "execute_result",
          "data": {
            "text/html": [
              "<div>\n",
              "<style scoped>\n",
              "    .dataframe tbody tr th:only-of-type {\n",
              "        vertical-align: middle;\n",
              "    }\n",
              "\n",
              "    .dataframe tbody tr th {\n",
              "        vertical-align: top;\n",
              "    }\n",
              "\n",
              "    .dataframe thead th {\n",
              "        text-align: right;\n",
              "    }\n",
              "</style>\n",
              "<table border=\"1\" class=\"dataframe\">\n",
              "  <thead>\n",
              "    <tr style=\"text-align: right;\">\n",
              "      <th></th>\n",
              "      <th>unique_hash</th>\n",
              "      <th>sentiment</th>\n",
              "    </tr>\n",
              "  </thead>\n",
              "  <tbody>\n",
              "    <tr>\n",
              "      <th>0</th>\n",
              "      <td>9e9a8166b84114aca147bf409f6f956635034c08</td>\n",
              "      <td>2</td>\n",
              "    </tr>\n",
              "    <tr>\n",
              "      <th>1</th>\n",
              "      <td>e747e6822c867571afe7b907b51f0f2ca67b0e1a</td>\n",
              "      <td>1</td>\n",
              "    </tr>\n",
              "    <tr>\n",
              "      <th>2</th>\n",
              "      <td>50b6d851bcff4f35afe354937949e9948975adf7</td>\n",
              "      <td>2</td>\n",
              "    </tr>\n",
              "    <tr>\n",
              "      <th>3</th>\n",
              "      <td>7f82ec2176ae6ab0b5d20b5ffc767ac829f384ae</td>\n",
              "      <td>2</td>\n",
              "    </tr>\n",
              "    <tr>\n",
              "      <th>4</th>\n",
              "      <td>8b37d169dee5bdae27060949242fb54feb6a7f7f</td>\n",
              "      <td>2</td>\n",
              "    </tr>\n",
              "  </tbody>\n",
              "</table>\n",
              "</div>"
            ],
            "text/plain": [
              "                                unique_hash  sentiment\n",
              "0  9e9a8166b84114aca147bf409f6f956635034c08          2\n",
              "1  e747e6822c867571afe7b907b51f0f2ca67b0e1a          1\n",
              "2  50b6d851bcff4f35afe354937949e9948975adf7          2\n",
              "3  7f82ec2176ae6ab0b5d20b5ffc767ac829f384ae          2\n",
              "4  8b37d169dee5bdae27060949242fb54feb6a7f7f          2"
            ]
          },
          "metadata": {
            "tags": []
          },
          "execution_count": 51
        }
      ]
    },
    {
      "cell_type": "markdown",
      "metadata": {
        "id": "E0M23_o3M609",
        "colab_type": "text"
      },
      "source": [
        "## Final Result Submission"
      ]
    },
    {
      "cell_type": "code",
      "metadata": {
        "id": "gFeeO2r8muyI",
        "colab_type": "code",
        "colab": {}
      },
      "source": [
        "sub.to_csv(\"result_tf2.csv\",index = False)"
      ],
      "execution_count": 0,
      "outputs": []
    }
  ]
}